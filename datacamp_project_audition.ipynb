{
 "cells": [
  {
   "cell_type": "markdown",
   "metadata": {
    "collapsed": true
   },
   "source": [
    "Welcome to your DataCamp project audition! This notebook must be filled out and vetted before a contract can be signed and you can start creating your project.\n",
    "\n",
    "There are two parts to be completed in this notebook:\n",
    "\n",
    "1. **Project information**:  The title of the project, a project description, assumed student background, etc.\n",
    "2. **Project introduction**: The three first text and code cells that will form the introduction of your project.\n",
    "\n",
    "When you are happy with this document, include the file as an attachment in an email to me as well as the datasets used. If you have any questions, feel free to reach out to me at any time!\n",
    "\n",
    "David Venturi<br>\n",
    "david.venturi@datacamp.com"
   ]
  },
  {
   "cell_type": "markdown",
   "metadata": {},
   "source": [
    "# 1. Project information"
   ]
  },
  {
   "cell_type": "markdown",
   "metadata": {},
   "source": [
    "**Project title**: The title of the project. Maximum 41 characters.\n",
    "\n",
    "**Name:** Jessica Chace.\n",
    "\n",
    "**Email address associated with your DataCamp account:** chace.jessica@gmail.com\n",
    "\n",
    "**Project description**:  Calling all politicos!  This project explores voter registration for the 27 congressional districts of New York from 2014 through 2018.  We'll be asking questions of the data and identifying findings like whether the 2016 election drove voters to fringe political parties, and what districts were likely to flip for the 2018 midterm elections.  Data will be pulled using Enigma Public's new SDK package which faciliates an easy API pull.  Data will be manipulated and analyzed using pandas.  We'll also plot findings with static and interactive charts using Matplotlib and Plotly-Dash, a new data visualization tool that allows Python users to deploy their work without any knowledge of Javascript.  By the end of this project, you'll have something that rivals the best of FiveThirtyEight.  Nate Silver's got nothing on you.  \n",
    "\n",
    "This project assumes you have some familiarity with pandas and Matplotlib.  It also assumes you have some knowledge of machine learning and predictive modeling.  The last part of the project will guide you through a basic set-up of a Plotly-Dash app to create interactive features for your plots.\n",
    "\n",
    "**Dataset(s) used**: This project uses five datasets pulled from the Enigma Public SDK API package found here: https://public.enigma.com/browse/tag/elections/34.  These datasets are filled with voter registration information for the 27 districts of New York from 2014 through 2018 for 10 different political parties.  \n",
    "\n",
    "**Assumed student knowledge**: This project will be designed for a beginner/intermediate Python user who wants to work on dataframe manipulation skills, plotting skills, and analysis skills.  It is assumed that the student is somewhat familiar with the pandas and matplotlib libraries as well as some pandas functions like .pct_change.    "
   ]
  },
  {
   "cell_type": "markdown",
   "metadata": {},
   "source": [
    "# 2. Project introduction"
   ]
  },
  {
   "cell_type": "markdown",
   "metadata": {},
   "source": [
    "The final output of a DataCamp project looks like a blog post: pairs of text and code cells that tell a story about data. The text is written from the perspective of the data analyst and *not* from the perspective of an instructor on DataCamp. So, for this blog post intro, all you need to do is pretend like you're writing a blog post -- forget the part about instructors and students.\n",
    "\n",
    "Below you'll see the structure of a DataCamp project: a series of \"tasks\" where each task consists of a title, a **single** text cell, and a **single** code cell. There are 8-12 tasks in a project and each task can have up to 10 lines of code. What you need to do:\n",
    "1. Read through the template structure.\n",
    "2. As best you can, divide your project as it is currently visualized in your mind into tasks.\n",
    "3. Fill out the template structure for the first three tasks of your project.\n",
    "\n",
    "As you are completing each task, you may wish to consult the project notebook format in our [documentation](https://authoring.datacamp.com/projects/projects-format.html). Only the `@context` and `@solution` cells are relevant to this audition."
   ]
  },
  {
   "cell_type": "markdown",
   "metadata": {},
   "source": [
    "Titles of Tasks to be Political Slogans:\n",
    "\n",
    "Putting Data First\n",
    "\n",
    "Prosperity and Progress (and Pandas)\n",
    "\n",
    "A Chicken in Every Pot and a Subplot in Every Grid\n",
    "\n",
    "Don't Swap Functions in the Middle of the Stream\n",
    "\n",
    "Percent Change We Can Believe In\n",
    "\n",
    "Make America Great Again\n",
    "\n",
    "I'm with Her\n",
    "\n",
    "Yes, We Can Build this Dash app\n",
    "\n",
    "Believe in sklearn\n",
    "\n",
    "\n"
   ]
  },
  {
   "cell_type": "markdown",
   "metadata": {},
   "source": [
    "## 1. Putting data first\n",
    "![Putting Data First](https://github.com/thedatasleuth/New-York-Congressional-Districts/blob/master/puttingpeoplefirst.png \"Putting People First\")"
   ]
  },
  {
   "cell_type": "markdown",
   "metadata": {},
   "source": [
    "Exciting intro paragraph about knowledge is power .\n",
    "\n",
    "\n",
    "In this project, we're going to be using datasets made publicly available by Enigma Public.  These datasets were made available and promoted during a competition hosted by Enigma in anticipation of the 2018 midterm elections.  The goal: explore data in a way that had some explanatory power over the 2018 midterm elections.  We're going to be recreating that competition during this project and taking a look what political parties are dominant in which districts and in what time frame, who are the most active districts and political parties, whether a district was ceded to a rival party, what effect fringe party registration had on canonical parties, identifying correlations between parties, and making a simple model to predict the outcome of the 2018 midterm elections.  \n",
    "\n",
    "\n",
    "An exciting intro to the analysis. Provide context on the problem you're going to solve, the dataset(s) you're going to use, the relevant industry, etc. You may wish to briefly introduce the techniques you're going to use. Tell a story. Get students excited! It should at most have 1800 characters.\n",
    "\n",
    "The most common error instructors make in **context cells** is referring to the student or the project. We want project notebooks to appear as a blog post or a data analysis. Bad: *\"In this project, you will...\"* Good: *\"We will...\"*\n",
    "\n",
    "Images are welcome additions to every Markdown cell, but especially this first one. Make sure the images you use have a [permissive license](https://support.google.com/websearch/answer/29508?hl=en) and display them using [Markdown](https://github.com/adam-p/markdown-here/wiki/Markdown-Cheatsheet#images)."
   ]
  },
  {
   "cell_type": "code",
   "execution_count": 10,
   "metadata": {},
   "outputs": [],
   "source": [
    "\"\"\"First, we're going to need to download and the import Engima Public's SDK package.  \n",
    "You can easily do this with a pip install right in your notebook\"\"\"\n",
    "\n",
    "# !pip install enigma-sdk\n",
    "import enigma\n",
    "\n",
    "\"\"\"Then, we'll need set up our API request of the database.  Each user will have a unique\n",
    "API key that can be acquired by setting up an account with Enigma Public.\"\"\"\n",
    "\n",
    "public = enigma.Public()\n",
    "public.set_auth(apikey='Li3XmSTVtp8zoaQ2uyoxQesJ8bVt6E4xrMi0TQ1XW3oc20ksCb5og')\n",
    "\n",
    "'''Before our pull, let's import our packages'''\n",
    "\n",
    "import pandas as pd\n",
    "import matplotlib as plt\n",
    "\n",
    "'''Now that we have access to the database we can pull the records we are able to pull records.\n",
    "There are five years worth of voter registration data, so we'll have to make five separate\n",
    "requests and concatenate the dataframes to make one large dataset.'''\n",
    "\n",
    "dataset = public.datasets.get('113dc95c-b3d0-41ad-8e0e-cb8cccd31f16')\n",
    "newyork2018 = dataset.current_snapshot.export_dataframe()\n",
    "\n",
    "dataset = public.datasets.get('a0c06879-3c2a-41d2-9de4-40d63d6a9be6')\n",
    "newyork2017 = dataset.current_snapshot.export_dataframe()\n",
    "\n",
    "dataset = public.datasets.get('cc0fa835-f6ba-4425-b0d9-b5a2226e547f')\n",
    "newyork2016 = dataset.current_snapshot.export_dataframe()\n",
    "\n",
    "dataset = public.datasets.get('0eb79e77-0a6f-48e5-be83-db89c03da8af')\n",
    "newyork2015 = dataset.current_snapshot.export_dataframe()\n",
    "\n",
    "dataset = public.datasets.get('895e1114-e783-4109-91a5-ad7262ee607c')\n",
    "newyork2014 = dataset.current_snapshot.export_dataframe()\n",
    "\n",
    "\n",
    "# Code for the first task\n",
    "# It should consist of up to 10 lines of code (not including comments)\n",
    "# and take at most 5 seconds to execute on an average laptop."
   ]
  },
  {
   "cell_type": "markdown",
   "metadata": {},
   "source": [
    "## 2. Prosperity and progress (and pandas)"
   ]
  },
  {
   "cell_type": "markdown",
   "metadata": {},
   "source": [
    "Surprisingly, the datasets do not contain the corresponding year, most likely because they are identified by their title.  Because we're going to concatenate the five datatsets together for a more in depth analysis over the course of five years, we'll need to keep track of which dataset corresponds to which year.  Let's add the year as a new column for each dataset.  "
   ]
  },
  {
   "cell_type": "code",
   "execution_count": 8,
   "metadata": {},
   "outputs": [],
   "source": [
    "newyork2014['Year'] = 2014\n",
    "newyork2015['Year'] = 2015\n",
    "newyork2016['Year'] = 2016\n",
    "newyork2017['Year'] = 2017\n",
    "newyork2018['Year'] = 2018\n",
    "\n",
    "# def get_year(df):\n",
    "#     df['Year'] = df.name[-4:]\n",
    "#     return df\n",
    "\n"
   ]
  },
  {
   "cell_type": "markdown",
   "metadata": {},
   "source": [
    "Now, let's concatenate all of the individual dataframes into one on the 0 axis."
   ]
  },
  {
   "cell_type": "code",
   "execution_count": 11,
   "metadata": {},
   "outputs": [
    {
     "name": "stderr",
     "output_type": "stream",
     "text": [
      "/Users/jessicachace/anaconda3/lib/python3.6/site-packages/ipykernel_launcher.py:1: FutureWarning: Sorting because non-concatenation axis is not aligned. A future version\n",
      "of pandas will change to not sort by default.\n",
      "\n",
      "To accept the future behavior, pass 'sort=False'.\n",
      "\n",
      "To retain the current behavior and silence the warning, pass 'sort=True'.\n",
      "\n",
      "  \"\"\"Entry point for launching an IPython kernel.\n"
     ]
    }
   ],
   "source": [
    "newyork = pd.concat([newyork2014, newyork2015, newyork2016, newyork2017, newyork2018], axis=0)"
   ]
  },
  {
   "cell_type": "markdown",
   "metadata": {},
   "source": [
    "## 3. Title of the third task (<= 55 chars)  (sentence case)"
   ]
  },
  {
   "cell_type": "markdown",
   "metadata": {},
   "source": [
    "Context / background / story / etc. It should at most have 800 characters and/or 3 paragraphs.\n",
    "\n",
    "The most common error instructors make in **context cells** is referring to the student or the project. We want project notebooks to appear as a blog post or a data analysis. Bad: *\"In this project, you will...\"* Good: *\"We will...\"*"
   ]
  },
  {
   "cell_type": "code",
   "execution_count": 3,
   "metadata": {
    "collapsed": true
   },
   "outputs": [],
   "source": [
    "# Code for the third task\n",
    "# It should consist of up to 10 lines of code (not including comments)\n",
    "# and take at most 5 seconds to execute on an average laptop."
   ]
  },
  {
   "cell_type": "markdown",
   "metadata": {},
   "source": [
    "*Stop here! Only the three first tasks. :)*"
   ]
  }
 ],
 "metadata": {
  "kernelspec": {
   "display_name": "Python 3",
   "language": "python",
   "name": "python3"
  },
  "language_info": {
   "codemirror_mode": {
    "name": "ipython",
    "version": 3
   },
   "file_extension": ".py",
   "mimetype": "text/x-python",
   "name": "python",
   "nbconvert_exporter": "python",
   "pygments_lexer": "ipython3",
   "version": "3.6.6"
  },
  "toc": {
   "base_numbering": 1,
   "nav_menu": {},
   "number_sections": true,
   "sideBar": true,
   "skip_h1_title": false,
   "title_cell": "Table of Contents",
   "title_sidebar": "Contents",
   "toc_cell": false,
   "toc_position": {},
   "toc_section_display": true,
   "toc_window_display": false
  }
 },
 "nbformat": 4,
 "nbformat_minor": 2
}
